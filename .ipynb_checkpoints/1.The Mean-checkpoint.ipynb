{
 "cells": [
  {
   "cell_type": "markdown",
   "metadata": {},
   "source": [
    "We learned to use frequency distribution tables to bring the data to a comprehensible form. \n",
    "\n",
    "Frequency tables, however, are not the only way of bringing data to a comprehensible form.\n",
    "\n",
    "We'll learn to summarize the distribution of a variable with a single value. Depending on the particular characteristics of a distribution, we'll see that we can summarize it using **the mean, the weighted mean, the median**, or **the mode**.\n",
    "\n",
    "We'll also learn to measure the variability in a distribution. If we have a distribution A with the values [3, 3, 3, 3], and a distribution B with [30, 1, 15, 43], we can clearly see that there's much more variability (diversity) in B. We'll learn to quantify variability using measures like variance and standard deviation.\n",
    "\n",
    "Once we understand the measures of variability, we can then learn how to locate a value in a distribution, and determine how it compares to other values. For instance, when we analyze salaries, we might want to find out whether a salary of $75000 is common or extreme inside a company. We'll learn to answer this question with precision using a **z-score**."
   ]
  },
  {
   "cell_type": "markdown",
   "metadata": {},
   "source": [
    "Let's say we want to summarize the distribution below with a single value that is representative of the distribution as a whole.\n",
    "$$[0,1,4,7,8,10]$$\n",
    "\n"
   ]
  },
  {
   "cell_type": "markdown",
   "metadata": {},
   "source": [
    "Intuitively, we need to take into account equally every single value in the distribution if we want to find a good summary value that's representative of the entire distribution. We could try to sum all the values in the distribution, and then divide the total by the number of values we added — this way we'll manage to take into account equally every value in the distribution\n",
    "\n",
    "$$0+1+4+7+8+10/6=30/6=5$$"
   ]
  },
  {
   "cell_type": "markdown",
   "metadata": {},
   "source": [
    "When we compute the summary value of a distribution in this way, we call the value the arithmetic mean, or the mean. For our distribution above, the mean is 5."
   ]
  },
  {
   "cell_type": "markdown",
   "metadata": {},
   "source": [
    "We have good reasons to consider 5 a representative value for the distribution above. First, notice that 5 is right at the center of the distribution's range, which is 0 - 10 (0 is the minimum value in the distribution, and 10 is the maximum value)"
   ]
  },
  {
   "cell_type": "markdown",
   "metadata": {},
   "source": [
    "Also, each value is fairly close to the mean. The nearest value to the mean is 4, which is just 1 unit away from the mean, while the farthest values are 0 and 10, located 5 units away from the mean.\n",
    "\n",
    "Although the distance for each individual value varies, the sum of the distances of the values that are below the mean is equal to the sum of the distances of the values that are above the mean:\n"
   ]
  },
  {
   "cell_type": "code",
   "execution_count": 3,
   "metadata": {},
   "outputs": [
    {
     "name": "stdout",
     "output_type": "stream",
     "text": [
      "4.0\n"
     ]
    }
   ],
   "source": [
    "import pandas as pd\n",
    "distribution = [0,2,3,3,3,4,13]\n",
    "\n",
    "# Compute the mean of this distribution\n",
    "mean = sum(distribution)/len(distribution)\n",
    "print(mean)\n",
    "\n",
    "# Find out whether the value of the mean is at the center of the distribution's range (0 - 13).\n",
    "# If it is, assign True to a variable named center, otherwise assign False.\n",
    "center = False"
   ]
  },
  {
   "cell_type": "code",
   "execution_count": 5,
   "metadata": {},
   "outputs": [
    {
     "data": {
      "text/plain": [
       "True"
      ]
     },
     "execution_count": 5,
     "metadata": {},
     "output_type": "execute_result"
    }
   ],
   "source": [
    "# Check whether the sum of the distances of the values that are below the mean\n",
    "# is equal to the sum of the distances of the values that are above the mean.\n",
    "\n",
    "above = []\n",
    "below = []\n",
    "for i in distribution:\n",
    "    if i < 4:\n",
    "        below.append(4-i)\n",
    "    else:\n",
    "        above.append(i-4)\n",
    "\n",
    "equal_distances = sum (above) == sum(below)\n",
    "equal_distances"
   ]
  },
  {
   "cell_type": "markdown",
   "metadata": {},
   "source": [
    "We observed from the distribution [0,2,3,3,3,4,13] that the mean 4 is not in the center of the 0 - 13 range interval\n",
    "As a consequence, we should avoid thinking of the mean as being the center of a distribution's range. In some cases, the mean will be equivalent to the center of the distribution's range, but we've just seen that this doesn't hold true for all distributions."
   ]
  },
  {
   "cell_type": "markdown",
   "metadata": {},
   "source": [
    "We should think of the mean as being the value located at that particular point in the distribution where the total distance of the values below the mean is the same as the total distance of the values that are above the mean."
   ]
  },
  {
   "cell_type": "markdown",
   "metadata": {},
   "source": [
    "To give better intuition for this property of the mean, it's common in the literature to describe the mean as the balance point of a lever.\n",
    "\n",
    "If the total distances above and below the mean were equivalent to the forces exerted by the weights on the rod of the lever, then there would be the same amount of force exerted on each side of the mean. This will make the rod stay in perfect equilibrium"
   ]
  },
  {
   "cell_type": "code",
   "execution_count": 12,
   "metadata": {},
   "outputs": [
    {
     "data": {
      "text/plain": [
       "5000"
      ]
     },
     "execution_count": 12,
     "metadata": {},
     "output_type": "execute_result"
    }
   ],
   "source": [
    "from numpy.random import randint, seed\n",
    "\n",
    "# Generate 5000 different distributions, measure the total distances above and below the mean, \n",
    "# and check whether they are equal.\n",
    "\n",
    "equal_distances = 0\n",
    "for i in range(5000):\n",
    "    seed(i)\n",
    "    distribution = randint(0,1000,10)\n",
    "    mean = distribution.mean()\n",
    "    above = []\n",
    "    below = []\n",
    "    for i in distribution:\n",
    "        if i<mean:\n",
    "            below.append(mean-i)\n",
    "        else:\n",
    "            above.append(i-mean)\n",
    "    if round(sum(above),1) == round(sum(below),1):\n",
    "        equal_distances += 1\n",
    "equal_distances"
   ]
  },
  {
   "cell_type": "markdown",
   "metadata": {},
   "source": [
    "Hence total distances above and below the mean are equal for all distribution"
   ]
  },
  {
   "cell_type": "markdown",
   "metadata": {},
   "source": [
    "A very useful property of the mean is that it can be defined algebraically in a simple way. This is how we can define the mean for any population of N values (**N** is the number of values in the population):\n",
    "\n"
   ]
  },
  {
   "cell_type": "markdown",
   "metadata": {},
   "source": [
    "population_mean = (x1+x2----xn)/N"
   ]
  },
  {
   "cell_type": "markdown",
   "metadata": {},
   "source": [
    "By convention, the mean of a population is denoted with the Greek letter μ (pronounced \"mew\")\n",
    "\n",
    "μ = (x1+x2----xn)/N"
   ]
  },
  {
   "cell_type": "markdown",
   "metadata": {},
   "source": [
    "When we compute the mean for a sample, we need to use a slightly different notation to indicate that we're computing the mean for a sample and not for a population. Instead of **μ**, we denote the sample mean using x¯(pronounced \"x-bar\"), and we use n instead of N  to denote the number of values in the sample\n",
    "\n",
    "x¯ = (x1+x2----xn)/n"
   ]
  },
  {
   "cell_type": "code",
   "execution_count": 13,
   "metadata": {},
   "outputs": [],
   "source": [
    "import pandas as pd\n",
    "\n",
    "houses = pd.read_table(\"AmesHousing_1.txt\",sep = \"\\t\")"
   ]
  },
  {
   "cell_type": "markdown",
   "metadata": {},
   "source": [
    "We'll be working with a data set that describes characteristics of houses sold between 2006 and 2010 in the city of Ames (located in the American state of Iowa). There are 2930 rows in the data set, and each row describes a house. For each house there are 82 characteristics described, which means there are 82 columns in the data set. "
   ]
  },
  {
   "cell_type": "markdown",
   "metadata": {},
   "source": [
    "The data set was collected by professor Dean DeCock. He described in great detail the data collection process [in this paper](https://www.tandfonline.com/doi/abs/10.1080/10691898.2011.11889627) published in the Journal of Statistics Education. The documentation of the data set can be found [here](https://s3.amazonaws.com/dq-content/307/data_description.txt)"
   ]
  },
  {
   "cell_type": "markdown",
   "metadata": {},
   "source": [
    "In practice, we almost always work with samples. But most of the times we're not interested in answering questions about samples — we want to answer questions about populations. A lot of the questions we want to answer in practice can be reduced to finding the mean of a population"
   ]
  },
  {
   "cell_type": "markdown",
   "metadata": {},
   "source": [
    "When we only have a sample but want to find the mean in the population, the best we can do is to compute the sample mean  and hope it's a good estimate for the population mean . When estimating the population mean  using the sample mean , there are three possible scenarios:\n",
    "\n",
    "* The sample mean  overestimates the population mean . This means that  x¯>μ.\n",
    "* The sample mean  underestimates the population mean . This means that x¯<μ.\n",
    "* The sample mean  is equal to the population mean . This means that x¯=μ."
   ]
  },
  {
   "cell_type": "markdown",
   "metadata": {},
   "source": [
    "When x¯>μ and  x¯<μ, sampling error occurs. Remember that sampling error is given by the difference between a population's parameter and a sample's statistic. μ is a parameter, and x¯ is a statistic, so the sampling error is given by:\n",
    "\n",
    "$$ sampling error = μ - x¯$$"
   ]
  },
  {
   "cell_type": "markdown",
   "metadata": {},
   "source": [
    "Our aim is to reduce the sampling error. Two important factors that influence the sampling error are:\n",
    "\n",
    "* Sample representativity — the more representative a sample is, the closer 𝑥¯ will be to μ.\n",
    "* Sample size — the larger the sample, the more chances we have to get a representative sample. By consequence, this means less sampling error."
   ]
  },
  {
   "cell_type": "markdown",
   "metadata": {},
   "source": [
    "We'll try to visualize on a scatter plot how the sampling error changes as we increase the sample size. Just to prove a point, we'll assume that our data set describes all the houses sold in Ames, Iowa between 2006 and 2010."
   ]
  },
  {
   "cell_type": "code",
   "execution_count": 14,
   "metadata": {},
   "outputs": [
    {
     "data": {
      "text/plain": [
       "180796.0600682594"
      ]
     },
     "execution_count": 14,
     "metadata": {},
     "output_type": "execute_result"
    }
   ],
   "source": [
    "# Compute the mean of the SalePrice variable. \n",
    "# We'll assume that the data we have is a population relative to the question\n",
    "\n",
    "parameter = houses['SalePrice'].mean()\n",
    "parameter"
   ]
  },
  {
   "cell_type": "code",
   "execution_count": 29,
   "metadata": {},
   "outputs": [
    {
     "name": "stdout",
     "output_type": "stream",
     "text": [
      "101\n",
      "\n",
      "101\n"
     ]
    }
   ],
   "source": [
    "# For each iteration of a for loop that iterates 101 times:\n",
    "# For the first iteration, the sample size is 5.\n",
    "# The last sample size is 2905 (which is close to 2930, the population's size).\n",
    "# To achieve that, we'll need to increment the sample size by 29 for every new iteration. \n",
    "# Compute the sample mean.\n",
    "# Compute the sampling error\n",
    "\n",
    "sample_size = 5\n",
    "\n",
    "sample_sizes = []\n",
    "sampling_errors = []\n",
    "sample_mean = []\n",
    "\n",
    "for i in range(101):\n",
    "    sample = houses['SalePrice'].sample(sample_size , random_state = i)\n",
    "    statistic = sample.mean()\n",
    "    sampling_error = parameter - statistic\n",
    "    sampling_errors.append(sampling_error)\n",
    "    sample_sizes.append(sample_size)\n",
    "    sample_mean.append(statistic)\n",
    "    sample_size += 29\n",
    "\n",
    "print(len(sample_sizes))\n",
    "print()\n",
    "print(len(sampling_errors))                          "
   ]
  },
  {
   "cell_type": "code",
   "execution_count": 28,
   "metadata": {},
   "outputs": [
    {
     "data": {
      "image/png": "[encoded data removed]",
      "text/plain": [
       "<Figure size 432x288 with 1 Axes>"
      ]
     },
     "metadata": {
      "needs_background": "light"
     },
     "output_type": "display_data"
    }
   ],
   "source": [
    "# Generate a scatter plot to represent visually how the sampling error changes as the sample size increases.\n",
    "\n",
    "import matplotlib.pyplot as plt\n",
    "import matplotlib.pyplot as plt\n",
    "plt.scatter(sample_sizes, sampling_errors)\n",
    "plt.axhline(0)\n",
    "plt.axvline(2930)\n",
    "plt.xlabel('Sample size')\n",
    "plt.ylabel('Sampling error')\n",
    "plt.show()"
   ]
  },
  {
   "cell_type": "markdown",
   "metadata": {},
   "source": [
    "We've seen that the general tendency for the sampling error is to decrease as the sample size increases. This tendency, however, has exceptions. For instance, there are cases where small sample sizes (100-500 sample points) gave us better estimates for the population mean than large sample sizes (2500 sample points or more) did."
   ]
  },
  {
   "cell_type": "markdown",
   "metadata": {},
   "source": [
    "It's also worth noting that the mean of the 10000 sample means we measured is very close to the population mean"
   ]
  },
  {
   "cell_type": "code",
   "execution_count": 34,
   "metadata": {},
   "outputs": [
    {
     "name": "stdout",
     "output_type": "stream",
     "text": [
      "180296.74 180796.06\n"
     ]
    }
   ],
   "source": [
    "print(round(sum(sample_mean) / len(sample_mean),2),round(houses['SalePrice'].mean(),2))"
   ]
  },
  {
   "cell_type": "code",
   "execution_count": 35,
   "metadata": {},
   "outputs": [
    {
     "data": {
      "text/plain": [
       "<matplotlib.lines.Line2D at 0x17bc452bbe0>"
      ]
     },
     "execution_count": 35,
     "metadata": {},
     "output_type": "execute_result"
    },
    {
     "data": {
      "image/png": "[encoded data removed]",
      "text/plain": [
       "<Figure size 432x288 with 1 Axes>"
      ]
     },
     "metadata": {
      "needs_background": "light"
     },
     "output_type": "display_data"
    }
   ],
   "source": [
    "means = []\n",
    "for i in range(10000):\n",
    "    sample = houses['SalePrice'].sample(100, random_state=i)\n",
    "    means.append(sample.mean())\n",
    "plt.hist(means)\n",
    "plt.xlim(0,500000)\n",
    "plt.xlabel(\"Sample mean\")\n",
    "plt.ylabel(\"Frequency\")\n",
    "plt.axvline(houses['SalePrice'].mean())"
   ]
  },
  {
   "cell_type": "markdown",
   "metadata": {},
   "source": [
    "We observed that with a sample size of 100 the sample means vary much less around the population mean "
   ]
  },
  {
   "cell_type": "markdown",
   "metadata": {},
   "source": [
    "Generally, as we increase the sample size, there will be less and less variability around the population mean. If there's less variability, there are less chances to get a poor estimate for the population mean. Even the worst sample means we can get are fairly close to the population mean, which is good. Sample means vary less and less and less as we increase the sample size"
   ]
  },
  {
   "cell_type": "markdown",
   "metadata": {},
   "source": [
    "If we took all the possible samples for a given sample size, we'd observe that the mean of the sample means will be equal to the population mean"
   ]
  },
  {
   "cell_type": "code",
   "execution_count": 41,
   "metadata": {},
   "outputs": [
    {
     "name": "stdout",
     "output_type": "stream",
     "text": [
      "True\n"
     ]
    }
   ],
   "source": [
    "population = [0,3,6]\n",
    "\n",
    "parameter = sum(population)/len(population)\n",
    "\n",
    "# sample without replacement\n",
    "posible_sample_size2 = [[0,3],[0,6],[3,0],[3,6],[6,0],[6,3]]\n",
    "\n",
    "mean = []\n",
    "\n",
    "for i in posible_sample_size2:\n",
    "    mean.append(sum(i)/len(i))\n",
    "\n",
    "statistic = sum(mean)/len(mean)\n",
    "\n",
    "print(parameter == statistic)\n",
    "\n"
   ]
  },
  {
   "cell_type": "markdown",
   "metadata": {},
   "source": [
    "When a statistic is on average equal to the parameter it estimates, we call that statistic an unbiased estimator. In our case, the sample mean  is an **unbiased estimator** for the population mean ."
   ]
  },
  {
   "cell_type": "markdown",
   "metadata": {},
   "source": [
    "This also holds true if we sample with replacement. When we do sampling with replacement, we sample one value, and then we put it back in the population, which means we can sample that value again."
   ]
  },
  {
   "cell_type": "code",
   "execution_count": 39,
   "metadata": {},
   "outputs": [],
   "source": [
    "population = [0,3,6]\n",
    "\n",
    "parameter = sum(population)/len(population)"
   ]
  },
  {
   "cell_type": "code",
   "execution_count": 40,
   "metadata": {},
   "outputs": [
    {
     "name": "stdout",
     "output_type": "stream",
     "text": [
      "True\n"
     ]
    }
   ],
   "source": [
    "# sample with replacement\n",
    "posible_sample_size2 = [[0,3],[0,6],[0,0],[3,0],[3,6],[3,3],[6,0],[6,3],[6,6]]\n",
    "\n",
    "mean = []\n",
    "\n",
    "for i in posible_sample_size2:\n",
    "    mean.append(sum(i)/len(i))\n",
    "\n",
    "statistic = sum(mean)/len(mean)\n",
    "\n",
    "print(parameter == statistic)\n"
   ]
  },
  {
   "cell_type": "code",
   "execution_count": null,
   "metadata": {},
   "outputs": [],
   "source": []
  }
 ],
 "metadata": {
  "kernelspec": {
   "display_name": "Python 3",
   "language": "python",
   "name": "python3"
  },
  "language_info": {
   "codemirror_mode": {
    "name": "ipython",
    "version": 3
   },
   "file_extension": ".py",
   "mimetype": "text/x-python",
   "name": "python",
   "nbconvert_exporter": "python",
   "pygments_lexer": "ipython3",
   "version": "3.7.1"
  }
 },
 "nbformat": 4,
 "nbformat_minor": 2
}
