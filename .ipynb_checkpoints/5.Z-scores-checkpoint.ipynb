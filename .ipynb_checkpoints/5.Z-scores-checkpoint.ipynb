{
 "cells": [
  {
   "cell_type": "markdown",
   "metadata": {},
   "source": [
    "In this work, we'll switch our focus to the individual values in a distribution and learn a few statistical techniques that can help us answer practical questions."
   ]
  },
  {
   "cell_type": "code",
   "execution_count": 1,
   "metadata": {},
   "outputs": [
    {
     "data": {
      "text/html": [
       "<div>\n",
       "<style scoped>\n",
       "    .dataframe tbody tr th:only-of-type {\n",
       "        vertical-align: middle;\n",
       "    }\n",
       "\n",
       "    .dataframe tbody tr th {\n",
       "        vertical-align: top;\n",
       "    }\n",
       "\n",
       "    .dataframe thead th {\n",
       "        text-align: right;\n",
       "    }\n",
       "</style>\n",
       "<table border=\"1\" class=\"dataframe\">\n",
       "  <thead>\n",
       "    <tr style=\"text-align: right;\">\n",
       "      <th></th>\n",
       "      <th>Order</th>\n",
       "      <th>PID</th>\n",
       "      <th>MS SubClass</th>\n",
       "      <th>MS Zoning</th>\n",
       "      <th>Lot Frontage</th>\n",
       "      <th>Lot Area</th>\n",
       "      <th>Street</th>\n",
       "      <th>Alley</th>\n",
       "      <th>Lot Shape</th>\n",
       "      <th>Land Contour</th>\n",
       "      <th>...</th>\n",
       "      <th>Pool Area</th>\n",
       "      <th>Pool QC</th>\n",
       "      <th>Fence</th>\n",
       "      <th>Misc Feature</th>\n",
       "      <th>Misc Val</th>\n",
       "      <th>Mo Sold</th>\n",
       "      <th>Yr Sold</th>\n",
       "      <th>Sale Type</th>\n",
       "      <th>Sale Condition</th>\n",
       "      <th>SalePrice</th>\n",
       "    </tr>\n",
       "  </thead>\n",
       "  <tbody>\n",
       "    <tr>\n",
       "      <th>0</th>\n",
       "      <td>1</td>\n",
       "      <td>526301100</td>\n",
       "      <td>20</td>\n",
       "      <td>RL</td>\n",
       "      <td>141.0</td>\n",
       "      <td>131770</td>\n",
       "      <td>Pave</td>\n",
       "      <td>NaN</td>\n",
       "      <td>IR1</td>\n",
       "      <td>Lvl</td>\n",
       "      <td>...</td>\n",
       "      <td>0</td>\n",
       "      <td>NaN</td>\n",
       "      <td>NaN</td>\n",
       "      <td>NaN</td>\n",
       "      <td>0</td>\n",
       "      <td>5</td>\n",
       "      <td>2010</td>\n",
       "      <td>WD</td>\n",
       "      <td>Normal</td>\n",
       "      <td>215000</td>\n",
       "    </tr>\n",
       "    <tr>\n",
       "      <th>1</th>\n",
       "      <td>2</td>\n",
       "      <td>526350040</td>\n",
       "      <td>20</td>\n",
       "      <td>RH</td>\n",
       "      <td>80.0</td>\n",
       "      <td>11622</td>\n",
       "      <td>Pave</td>\n",
       "      <td>NaN</td>\n",
       "      <td>Reg</td>\n",
       "      <td>Lvl</td>\n",
       "      <td>...</td>\n",
       "      <td>0</td>\n",
       "      <td>NaN</td>\n",
       "      <td>MnPrv</td>\n",
       "      <td>NaN</td>\n",
       "      <td>0</td>\n",
       "      <td>6</td>\n",
       "      <td>2010</td>\n",
       "      <td>WD</td>\n",
       "      <td>Normal</td>\n",
       "      <td>105000</td>\n",
       "    </tr>\n",
       "  </tbody>\n",
       "</table>\n",
       "<p>2 rows × 82 columns</p>\n",
       "</div>"
      ],
      "text/plain": [
       "   Order        PID  MS SubClass MS Zoning  Lot Frontage  Lot Area Street  \\\n",
       "0      1  526301100           20        RL         141.0    131770   Pave   \n",
       "1      2  526350040           20        RH          80.0     11622   Pave   \n",
       "\n",
       "  Alley Lot Shape Land Contour  ... Pool Area Pool QC  Fence Misc Feature  \\\n",
       "0   NaN       IR1          Lvl  ...         0     NaN    NaN          NaN   \n",
       "1   NaN       Reg          Lvl  ...         0     NaN  MnPrv          NaN   \n",
       "\n",
       "  Misc Val Mo Sold Yr Sold Sale Type  Sale Condition  SalePrice  \n",
       "0        0       5    2010       WD           Normal     215000  \n",
       "1        0       6    2010       WD           Normal     105000  \n",
       "\n",
       "[2 rows x 82 columns]"
      ]
     },
     "execution_count": 1,
     "metadata": {},
     "output_type": "execute_result"
    }
   ],
   "source": [
    "import pandas as pd\n",
    "import numpy as np\n",
    "import matplotlib.pyplot as plt\n",
    "\n",
    "houses = pd.read_table(\"AmesHousing_1.txt\")\n",
    "houses[0:2]"
   ]
  },
  {
   "cell_type": "code",
   "execution_count": 2,
   "metadata": {},
   "outputs": [
    {
     "name": "stdout",
     "output_type": "stream",
     "text": [
      "2216    220000\n",
      "Name: SalePrice, dtype: int64\n"
     ]
    }
   ],
   "source": [
    "# Sample randomly one sale price from the SalePrice column\n",
    "print(houses['SalePrice'].sample(1, random_state = 0))"
   ]
  },
  {
   "cell_type": "markdown",
   "metadata": {},
   "source": [
    "We can see we got a price of `$220,000`. \n",
    "* Is a house costing `$220,000` **cheap**, **expensive**, or **average-priced**? \n",
    "\n",
    "To answer this question, we can start with finding the mean price of a house and then figure out whether `$220,000` is below or above the mean"
   ]
  },
  {
   "cell_type": "code",
   "execution_count": 3,
   "metadata": {},
   "outputs": [
    {
     "data": {
      "text/plain": [
       "180796.0600682594"
      ]
     },
     "execution_count": 3,
     "metadata": {},
     "output_type": "execute_result"
    }
   ],
   "source": [
    "mean = houses['SalePrice'].mean()\n",
    "mean"
   ]
  },
  {
   "cell_type": "markdown",
   "metadata": {},
   "source": [
    "The sampled house (`$220,000`) is clearly more expensive than the average house (roughly $180,796), but is this price slightly above the average or extremely above the average? The answer depends on the standard deviation of the distribution of sale prices."
   ]
  },
  {
   "cell_type": "code",
   "execution_count": 4,
   "metadata": {},
   "outputs": [
    {
     "data": {
      "text/plain": [
       "79886.69235666493"
      ]
     },
     "execution_count": 4,
     "metadata": {},
     "output_type": "execute_result"
    }
   ],
   "source": [
    "std = houses['SalePrice'].std()\n",
    "std"
   ]
  },
  {
   "cell_type": "code",
   "execution_count": 5,
   "metadata": {},
   "outputs": [
    {
     "data": {
      "text/plain": [
       "<matplotlib.legend.Legend at 0x20435b48e08>"
      ]
     },
     "execution_count": 5,
     "metadata": {},
     "output_type": "execute_result"
    },
    {
     "data": {
      "image/png": "[encoded data removed]",
      "text/plain": [
       "<Figure size 432x288 with 1 Axes>"
      ]
     },
     "metadata": {
      "needs_background": "light"
     },
     "output_type": "display_data"
    }
   ],
   "source": [
    "# Generate a kernel density plot for the SalePrice variable to find out how far off $220,000 is from the mean.\n",
    "# Plot a vertical line to indicate visually the standard deviation distance above the mean\n",
    "\n",
    "houses['SalePrice'].plot.kde()\n",
    "plt.xlim(12000,800000)\n",
    "plt.axvline(houses['SalePrice'].mean(), label = \"Mean\", color = \"Black\")\n",
    "plt.axvline(mean + std, label = \"Standard Deviation\", color = \"red\") # data is a population so standard deviation without Bessel's correction\n",
    "plt.axvline(220000, color = \"Orange\", label = \"220000\")\n",
    "plt.legend()\n"
   ]
  },
  {
   "cell_type": "markdown",
   "metadata": {},
   "source": [
    "For the sample a with `standard deviation (s = 79886.70 )`, we can see that `$220,000` is fairly close to the mean, indicating that houses at that price are common and thus not very expensive (relative to the other houses on the market)."
   ]
  },
  {
   "cell_type": "markdown",
   "metadata": {},
   "source": [
    "We need to find a faster and more precise way to measure how far off a value is from the mean (taking into account at the same time the standard deviation of the distribution)."
   ]
  },
  {
   "cell_type": "code",
   "execution_count": 6,
   "metadata": {},
   "outputs": [
    {
     "data": {
      "text/plain": [
       "0.4907443126661111"
      ]
     },
     "execution_count": 6,
     "metadata": {},
     "output_type": "execute_result"
    }
   ],
   "source": [
    "# Find out the number of standard deviations away from the mean for a price\n",
    "\n",
    "st_devs_away = (220000-mean)/std\n",
    "st_devs_away"
   ]
  },
  {
   "cell_type": "markdown",
   "metadata": {},
   "source": [
    "We could say that `$220,000` is `0.49` or **approx half of standard deviation** away from the mean. * We can conclude that this value `($220000)` is relatively close to the mean, and it's not very expensive compared to the other prices in the distribution."
   ]
  },
  {
   "cell_type": "markdown",
   "metadata": {},
   "source": [
    "Let's try to describe this process algebraically: for any value **x** in a population with mean **μ** and  standard deviation **б** , \n",
    "\n",
    "* the number of standard deviations away from the mean is given by the formula below, where we denote the number of standard deviations away from the mean with **z** `z=(x-μ)/б`"
   ]
  },
  {
   "cell_type": "markdown",
   "metadata": {},
   "source": [
    "The value representing the number of standard deviations away from the mean is commonly known as the **standard score, or the z-score**"
   ]
  },
  {
   "cell_type": "markdown",
   "metadata": {},
   "source": [
    "Z-scores can also be defined fairly easy for samples. For any value in a sample with mean and standard deviation (with Bessel's correction), the z-score \n",
    "\n",
    "$$z = (x - x¯)/s$$"
   ]
  },
  {
   "cell_type": "markdown",
   "metadata": {},
   "source": [
    "The z-scores we've dealt with so far were all positive, but we can have negative z-scores as well."
   ]
  },
  {
   "cell_type": "markdown",
   "metadata": {},
   "source": [
    "We can see that a z-score has two parts:\n",
    "\n",
    "* The sign, which indicates whether the value is above or below the mean.\n",
    "* The value, which indicates the number of standard deviations that a value is away from the mean.\n",
    "\n",
    "Generally, the sign of a z-score is written out even if the z-score is positive. \n",
    "* If a value is two standard deviations away from the mean, we should write that the z-score is +2, not 2."
   ]
  },
  {
   "cell_type": "code",
   "execution_count": 7,
   "metadata": {},
   "outputs": [],
   "source": [
    "# Function that returns the z\n",
    "\n",
    "def z_score(value,series, bessel = 0):\n",
    "    std = series.std(ddof = bessel)\n",
    "    mean = series.mean()\n",
    "    z = (value - mean)/std\n",
    "    return z\n"
   ]
  },
  {
   "cell_type": "code",
   "execution_count": 8,
   "metadata": {},
   "outputs": [],
   "source": [
    "min_val = houses['SalePrice'].min()\n",
    "mean_val = houses['SalePrice'].mean()\n",
    "max_val = houses['SalePrice'].max()"
   ]
  },
  {
   "cell_type": "code",
   "execution_count": 9,
   "metadata": {},
   "outputs": [
    {
     "name": "stdout",
     "output_type": "stream",
     "text": [
      "{'min_z': -2.103, 'mean_z': 0.0, 'max_z': 7.189}\n"
     ]
    }
   ],
   "source": [
    "min_z = z_score(min_val, houses['SalePrice'])\n",
    "mean_z = z_score(mean_val, houses['SalePrice'])\n",
    "max_z = z_score(max_val, houses['SalePrice'])\n",
    "\n",
    "print({\"min_z\":round(min_z,3), \"mean_z\":mean_z, \"max_z\":round(max_z,3)})"
   ]
  },
  {
   "cell_type": "markdown",
   "metadata": {},
   "source": [
    "We saw that the mean of a distribution has a z-score of `0`. \n",
    "* So, the value that have a z-score closest to `0` is favourable"
   ]
  },
  {
   "cell_type": "markdown",
   "metadata": {},
   "source": [
    "Let's say we're working as data analysts for a real estate company, and we want to find the best neighborhood in Ames to invest in. \n",
    "\n",
    "The company budgeted `$10,000,000` for this investment, and the plan is to buy **50 houses** of `$200,000` each. Depending on the market particularities of each neighborhood, \n",
    "* a `$200,000` house can be considered **cheap**, **average-priced** or **expensive**. \n",
    "\n",
    "We want to find a neighborhood where a price of `$200,000` goes as average because average-priced houses are the ones that are most rented and easiest to sell.\n",
    "\n",
    "We're asked by our real estate specialists to analyze historical data on five neighborhoods:\n",
    "\n",
    "* North Ames.\n",
    "* College Creek.\n",
    "* Old Town.\n",
    "* Edwards.\n",
    "* Somerset.\n",
    "\n",
    "Note that we can't simply find the mean sale price of each neighborhood and then just subtract `$200,000` from the mean to find the neighborhood with the lowest difference. This way we'd fail to take into account the variability of each distribution"
   ]
  },
  {
   "cell_type": "code",
   "execution_count": 10,
   "metadata": {},
   "outputs": [
    {
     "data": {
      "text/plain": [
       "{'NAmes': 1.7239665910370237,\n",
       " 'CollgCr': -0.03334366282705464,\n",
       " 'OldTown': 1.7183080926865524,\n",
       " 'Edwards': 1.443576193848941,\n",
       " 'Somerst': -0.5186390646965722}"
      ]
     },
     "execution_count": 10,
     "metadata": {},
     "output_type": "execute_result"
    }
   ],
   "source": [
    "# Find the z-score of a $200,000 price for each of the five data sets\n",
    "\n",
    "neighborhoods = ['NAmes','CollgCr','OldTown','Edwards','Somerst']\n",
    "\n",
    "\n",
    "z_scores = {}\n",
    "for neighbor in neighborhoods:\n",
    "    df = houses[houses['Neighborhood'] == neighbor]\n",
    "    zscore = z_score(200000, df['SalePrice'], bessel=0)\n",
    "    z_scores[neighbor] = zscore\n",
    "z_scores   "
   ]
  },
  {
   "cell_type": "markdown",
   "metadata": {},
   "source": [
    "`CollgCr` has **z-score closet to zero**. so our recommendation should be the neighborhood with the z-score closest to 0. However we need to see other factors like bad neighbours"
   ]
  },
  {
   "cell_type": "markdown",
   "metadata": {},
   "source": [
    "Z-scores are often used to transform entire distributions by converting all the values to z-scores."
   ]
  },
  {
   "cell_type": "code",
   "execution_count": 11,
   "metadata": {},
   "outputs": [],
   "source": [
    "mean = houses['SalePrice'].mean()\n",
    "st_dev = houses['SalePrice'].std(ddof = 0)\n",
    "houses['z_prices'] = houses['SalePrice'].apply(lambda x:(x -mean)/st_dev)"
   ]
  },
  {
   "cell_type": "code",
   "execution_count": 20,
   "metadata": {},
   "outputs": [
    {
     "data": {
      "image/png": "[encoded data removed]",
      "text/plain": [
       "<Figure size 792x252 with 2 Axes>"
      ]
     },
     "metadata": {
      "needs_background": "light"
     },
     "output_type": "display_data"
    }
   ],
   "source": [
    "plt.figure(figsize = (11,3.5))\n",
    "plt.subplot(1,2,1)\n",
    "houses['z_prices'].plot.kde(xlim = (houses['z_prices'].min(),houses['z_prices'].max()))\n",
    "\n",
    "plt.subplot(1,2,2)\n",
    "houses['SalePrice'].plot.kde(xlim = (houses['SalePrice'].min(),houses['SalePrice'].max()))\n",
    "\n",
    "plt.tight_layout() # otherwise the plots will overlay partially\n",
    "plt.show()"
   ]
  },
  {
   "cell_type": "markdown",
   "metadata": {},
   "source": [
    "Notice that the shape of the initial distribution is preserved perfectly in the new distribution of z-scores."
   ]
  },
  {
   "cell_type": "code",
   "execution_count": 13,
   "metadata": {},
   "outputs": [
    {
     "name": "stdout",
     "output_type": "stream",
     "text": [
      "-1.1429992333726227e-16\n",
      "1.0000000000000002\n"
     ]
    }
   ],
   "source": [
    "z_mean_price = houses['z_prices'].mean()\n",
    "z_stdev_price = houses['z_prices'].std(ddof = 0)\n",
    "\n",
    "print(z_mean_price)\n",
    "print(z_stdev_price)"
   ]
  },
  {
   "cell_type": "code",
   "execution_count": 14,
   "metadata": {},
   "outputs": [
    {
     "name": "stdout",
     "output_type": "stream",
     "text": [
      "8.771898641662927e-18\n",
      "0.9999999999999997\n"
     ]
    }
   ],
   "source": [
    "mean_area = houses['Lot Area'].mean()\n",
    "stdev_area = houses['Lot Area'].std(ddof = 0)\n",
    "houses['z_area'] = houses['Lot Area'].apply(\n",
    "    lambda x: ((x - mean_area) / stdev_area)\n",
    "    )\n",
    "\n",
    "z_mean_area = houses['z_area'].mean()\n",
    "z_stdev_area = houses['z_area'].std(ddof = 0)\n",
    "\n",
    "print(z_mean_area)\n",
    "print(z_stdev_area)"
   ]
  },
  {
   "cell_type": "markdown",
   "metadata": {},
   "source": [
    "The mean values are both extremely close to `0`. \n",
    "* For instance, we got a mean of `-1.1429992333726227e-16` (notice the `e-16` at the end) for the z-scores distribution of the SalePrice column. This number uses scientific notation to abbreviate what in full would be `-0.0000000000000001429992333726227`. \n",
    "\n",
    "Also, both the standard deviations were also very close to `1`: `1.0000000000000002` and `0.9999999999999997`."
   ]
  },
  {
   "cell_type": "markdown",
   "metadata": {},
   "source": [
    "In fact, for every distribution of z-scores, the mean is always 0 and the standard deviation is always 1. We got slightly different values because of small rounding errors."
   ]
  },
  {
   "cell_type": "markdown",
   "metadata": {},
   "source": [
    "Consider the transformation of a normally-distributed population of sale prices with mean 180000 and standard deviation 10000:\n",
    "\n",
    "Notice that when we transform to z-scores, the initial values are practically relabeled and the relative location of each value in the distribution is perfectly preserved. This explains why the shape of the original distribution is preserved, and it also means that the location of the mean and the standard deviation is preserved as well.\n",
    "\n",
    "The mean is located at 180000 in the initial distribution. In the z-score distribution, the mean has the same location, but now there's a value of 0 at that location because the z-score of 180000 is 0.\n",
    "\n",
    "Notice that the value of the standard deviation (`10000`) is given by the difference between the value that is **one standard deviation above the mean (190000)** and **the mean (180000)**: `190000-180000=10000`. \n",
    "\n",
    "After converting 190000 and 180000 to z-scores, the difference becomes `1-0 = 1`, so the standard deviation of the z-score distribution is `1`."
   ]
  },
  {
   "cell_type": "markdown",
   "metadata": {},
   "source": [
    "A distribution of z-scores is often called a **standard distribution** (remember that z-scores are also called **standard scores**). When we convert a distribution to z-scores, we'd say in statistical jargon that we **standardized** the distribution."
   ]
  },
  {
   "cell_type": "code",
   "execution_count": 15,
   "metadata": {},
   "outputs": [
    {
     "data": {
      "text/plain": [
       "[-1.0, 1.0, -1.0, 1.0]"
      ]
     },
     "execution_count": 15,
     "metadata": {},
     "output_type": "execute_result"
    }
   ],
   "source": [
    "population = [0,8,0,8]\n",
    "\n",
    "# Standardize the population of values stored in the population variable and compute its mean  and its standard deviation \n",
    "import numpy as np\n",
    "\n",
    "mean_pop = np.mean(population)\n",
    "std_pop = np.std(population, ddof = 0)\n",
    "\n",
    "standardized_pop = [(i-mean_pop)/std_pop for i in population]\n",
    "standardized_pop"
   ]
  },
  {
   "cell_type": "code",
   "execution_count": 16,
   "metadata": {},
   "outputs": [
    {
     "name": "stdout",
     "output_type": "stream",
     "text": [
      "0.0\n",
      "1.0\n"
     ]
    }
   ],
   "source": [
    "mean_z = np.mean(standardized_pop)\n",
    "stdev_z = np.std(standardized_pop, ddof = 0)\n",
    "\n",
    "print(mean_z)\n",
    "print(stdev_z)"
   ]
  },
  {
   "cell_type": "code",
   "execution_count": 17,
   "metadata": {},
   "outputs": [
    {
     "data": {
      "text/plain": [
       "[-0.8660254037844387,\n",
       " 0.8660254037844387,\n",
       " -0.8660254037844387,\n",
       " 0.8660254037844387]"
      ]
     },
     "execution_count": 17,
     "metadata": {},
     "output_type": "execute_result"
    }
   ],
   "source": [
    "# instead treat population as a sample and proceed to standardize it\n",
    "sample = [0,8,0,8]\n",
    "\n",
    "x_bar = np.mean(sample)\n",
    "s = np.std(sample, ddof = 1)\n",
    "\n",
    "standardized_sample  =  [(i-x_bar)/s for i in sample]\n",
    "standardized_sample"
   ]
  },
  {
   "cell_type": "code",
   "execution_count": 18,
   "metadata": {},
   "outputs": [
    {
     "name": "stdout",
     "output_type": "stream",
     "text": [
      "0.0\n",
      "1.0\n"
     ]
    }
   ],
   "source": [
    "print(np.mean(standardized_sample))\n",
    "print(np.std(standardized_sample, ddof = 1))"
   ]
  },
  {
   "cell_type": "markdown",
   "metadata": {},
   "source": [
    "Standardizing distributions can prove very useful when we need to compare values coming from different systems of measurement."
   ]
  },
  {
   "cell_type": "markdown",
   "metadata": {},
   "source": [
    "Formula for finding a z-score in a population is `𝑧=(𝑥−μ)/б`\n",
    "* With a little algebra we can show that `x = zб + μ`"
   ]
  },
  {
   "cell_type": "markdown",
   "metadata": {},
   "source": [
    "We already have the values for **z**, but what about `μ` and `б`? We are actually free to choose any values we want for `μ` and `б`. \n",
    "\n",
    "for example we can `μ = 50` and `б = 10`\n",
    "\n",
    "Each z-score in the distribution will follow the same procedure — it'll be multiplied by `10` and then we'll add `50` to the result of the product. This means that the location of each z-score will be preserved perfectly — it's all a matter of relabeling."
   ]
  },
  {
   "cell_type": "code",
   "execution_count": null,
   "metadata": {},
   "outputs": [],
   "source": []
  }
 ],
 "metadata": {
  "kernelspec": {
   "display_name": "Python 3",
   "language": "python",
   "name": "python3"
  },
  "language_info": {
   "codemirror_mode": {
    "name": "ipython",
    "version": 3
   },
   "file_extension": ".py",
   "mimetype": "text/x-python",
   "name": "python",
   "nbconvert_exporter": "python",
   "pygments_lexer": "ipython3",
   "version": "3.7.6"
  }
 },
 "nbformat": 4,
 "nbformat_minor": 2
}
