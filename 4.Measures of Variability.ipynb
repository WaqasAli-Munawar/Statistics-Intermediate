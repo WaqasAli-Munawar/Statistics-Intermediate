{
 "cells": [
  {
   "cell_type": "markdown",
   "metadata": {},
   "source": [
    "We've focused entirely on summarizing distributions using the mean, the weighted mean, the median, and the mode. An interesting distribution property we haven't yet discussed is variability."
   ]
  },
  {
   "cell_type": "code",
   "execution_count": 1,
   "metadata": {},
   "outputs": [],
   "source": [
    "A = [4,4,4,4]\n",
    "B = [0,8,0,8]"
   ]
  },
  {
   "cell_type": "markdown",
   "metadata": {},
   "source": [
    "The values of the distribution \"*A* don't vary — each value is 4. The values in distribution *B* show some variability — they are not all identical, and the values can be either 8 or 0. If we were to quantify variability, we could assign a value of 0 to A to indicate that it has no variability. But what variability value should we assign to distribution B?"
   ]
  },
  {
   "cell_type": "markdown",
   "metadata": {},
   "source": [
    "We need a measure to summarize the variability of these two distributions. The summary metrics we've learned so far don't tell us anything about variability. The mean, the median, and the mode of distribution A are all 4, and distribution B has a mean and a median of 4, and no mode. If we were to judge variability based on these values, we'd probably have to conclude that the variabilities of the two distributions are equal, which is wrong."
   ]
  },
  {
   "cell_type": "markdown",
   "metadata": {},
   "source": [
    "One intuitive way to measure the variability of a distribution is to find the difference between the maximum and the minimum value. Both the maximum and the minimum of distribution A is 4, so the variability of distribution A is 0 (4-4)\n",
    "\n",
    "We call this measure of variability **the range**. So the range of distribution A is 0. The range of distribution B is 8 (8-0)"
   ]
  },
  {
   "cell_type": "markdown",
   "metadata": {},
   "source": [
    "So, we can say rang distribution of X can be any distribution of real numbers, is;\n",
    "$$range(X) = max(X)- min(X)$$"
   ]
  },
  {
   "cell_type": "code",
   "execution_count": 3,
   "metadata": {},
   "outputs": [
    {
     "data": {
      "text/plain": [
       "(2930, 82)"
      ]
     },
     "execution_count": 3,
     "metadata": {},
     "output_type": "execute_result"
    }
   ],
   "source": [
    "import pandas as pd\n",
    "import numpy as np\n",
    "import matplotlib.pyplot as plt\n",
    "\n",
    "houses = pd.read_table(\"AmesHousing_1.txt\")\n",
    "houses.shape"
   ]
  },
  {
   "cell_type": "code",
   "execution_count": 4,
   "metadata": {},
   "outputs": [],
   "source": [
    "# function that takes in an array of numerical values and returns the range of that array\n",
    "\n",
    "def range_col(col):\n",
    "    max_val = col.max()\n",
    "    min_val = col.min()\n",
    "    range_col = max_val - min_val\n",
    "    return range_col"
   ]
  },
  {
   "cell_type": "code",
   "execution_count": 6,
   "metadata": {},
   "outputs": [
    {
     "data": {
      "text/plain": [
       "{2010: 598868, 2009: 575100, 2008: 601900, 2007: 715700, 2006: 590000}"
      ]
     },
     "execution_count": 6,
     "metadata": {},
     "output_type": "execute_result"
    }
   ],
   "source": [
    "# measure the range of the SalePrice variable for each year of sales\n",
    "\n",
    "range_by_year = {}\n",
    "years = houses[\"Yr Sold\"].unique()\n",
    "\n",
    "for year in years:\n",
    "    df = houses[houses[\"Yr Sold\"] == year]\n",
    "    sale_price = df[\"SalePrice\"]\n",
    "    year_range = range_col(sale_price)\n",
    "    range_by_year[year] = year_range\n",
    "\n",
    "range_by_year"
   ]
  },
  {
   "cell_type": "markdown",
   "metadata": {},
   "source": [
    "Prices has the greatest variability in 2007."
   ]
  },
  {
   "cell_type": "markdown",
   "metadata": {},
   "source": [
    "The problem with the range is that it considers only two values in the distribution — the minimum and the maximum value. Let say we have a distrinution C\n",
    "$$C = [1,1,1,1,1,1,1,1,1,21]$$"
   ]
  },
  {
   "cell_type": "markdown",
   "metadata": {},
   "source": [
    "We can see there's not much variability in distribution C - we have nine values of 1, and a single value of 21"
   ]
  },
  {
   "cell_type": "markdown",
   "metadata": {},
   "source": [
    "$$21-1 = 20$$"
   ]
  },
  {
   "cell_type": "markdown",
   "metadata": {},
   "source": [
    "Despite our expectations, the range indicates that the variability of distribution C is 20."
   ]
  },
  {
   "cell_type": "markdown",
   "metadata": {},
   "source": [
    "This is signficantly greater than 0 and doesn't seem like a reasonable measure of variability for distribution C. The root of the problem is that the range considers only the two extreme values, and this makes it extremely sensitive to outliers. To get a more balanced measure of variability for distribution C, we need to take into account each value in the distribution."
   ]
  },
  {
   "cell_type": "markdown",
   "metadata": {},
   "source": [
    "To take into account each value when measuring variability we could take a reference value, and measure the distance of each value in the distribution from that reference value.\n",
    "* We can take the mean of the distribution as a reference value.\n",
    "* Then, we measure the distance between each value in the distribution and the mean."
   ]
  },
  {
   "cell_type": "markdown",
   "metadata": {},
   "source": [
    "By measuring the distance of each value relative to a reference point and then taking the mean of the distances, we practically measure how much the values of a distribution vary on average with respect to that reference point."
   ]
  },
  {
   "cell_type": "code",
   "execution_count": 10,
   "metadata": {},
   "outputs": [
    {
     "data": {
      "text/plain": [
       "0.0"
      ]
     },
     "execution_count": 10,
     "metadata": {},
     "output_type": "execute_result"
    }
   ],
   "source": [
    "# function that takes in a numerical array and returns the average distance \n",
    "\n",
    "def average_distance(array):\n",
    "    mean = np.mean(array)\n",
    "    distance = []\n",
    "    for i in array:\n",
    "        distance.append(i-mean)\n",
    "    average_distance = np.average(distance)\n",
    "    return average_distance\n",
    "\n",
    "c=[1,1,1,1,1,1,1,1,1,21]\n",
    "average_distance(c)"
   ]
  },
  {
   "cell_type": "markdown",
   "metadata": {},
   "source": [
    "The mean is the balance point of a distribution. So, total distance of all values below and above the mean are same. That being said sum of all negative values (below mean) plus sum of all postive value (abvove mean) should be zero"
   ]
  },
  {
   "cell_type": "markdown",
   "metadata": {},
   "source": [
    "To solve this problem, we can take the absolute value of each distance, and then sum up the absolute values. The absolute value (also called modulus) of a number is the positive version of that number, regardless of its sign."
   ]
  },
  {
   "cell_type": "markdown",
   "metadata": {},
   "source": [
    "We'll update the formula used previously to reflect the fact the we're summing up the absolute distances instead:"
   ]
  },
  {
   "cell_type": "code",
   "execution_count": 11,
   "metadata": {},
   "outputs": [
    {
     "data": {
      "text/plain": [
       "3.6"
      ]
     },
     "execution_count": 11,
     "metadata": {},
     "output_type": "execute_result"
    }
   ],
   "source": [
    "def mean_absolute_deviation(array):\n",
    "    mean = np.mean(array)\n",
    "    distance = []\n",
    "    for i in array:\n",
    "        distance.append(abs(i-mean)) # Also can use np.abs() or np.fabs()\n",
    "    average_distance = np.average(distance)\n",
    "    return average_distance\n",
    "\n",
    "c=[1,1,1,1,1,1,1,1,1,21]\n",
    "mean_absolute_deviation(c)"
   ]
  },
  {
   "cell_type": "markdown",
   "metadata": {},
   "source": [
    "The values of a distribution **C** vary on average with respect to mean (3.0) by 3.6."
   ]
  },
  {
   "cell_type": "markdown",
   "metadata": {},
   "source": [
    "Another way to solve this problem is to square each distance and then find the mean of all the squared distances\n",
    "\n",
    "This measure of variability is sometimes called **mean squared distance or mean squared deviation** (remember that \"distance\" and \"deviation\" are synonymous in this context). However, it's more commonly known as **variance**."
   ]
  },
  {
   "cell_type": "markdown",
   "metadata": {},
   "source": [
    "Squaring the distances or taking their absolute values ensure that we get a variability value that is greater than 0 for all distributions that show some variability. Notice, however, that variance and mean absolute deviation will still be 0 for distributions that show no variability."
   ]
  },
  {
   "cell_type": "markdown",
   "metadata": {},
   "source": [
    "we got a mean absolute deviation of 3.6 for our distribution **c**. A value of 3.6 fitted well our expectations because we had expected a variability value greater than 0, but significantly less than 20. "
   ]
  },
  {
   "cell_type": "code",
   "execution_count": 12,
   "metadata": {},
   "outputs": [
    {
     "data": {
      "text/plain": [
       "36.0"
      ]
     },
     "execution_count": 12,
     "metadata": {},
     "output_type": "execute_result"
    }
   ],
   "source": [
    "# function that takes in a numerical array and returns the variance of that array.\n",
    "\n",
    "def variance(array):\n",
    "    mean = np.mean(array)\n",
    "    distance = []\n",
    "    for i in array:\n",
    "        distance.append((i-mean)**2) # Also can use np.abs() or np.fabs()\n",
    "    average_distance = np.average(distance)\n",
    "    return average_distance\n",
    "\n",
    "c=[1,1,1,1,1,1,1,1,1,21]\n",
    "variance(c)"
   ]
  },
  {
   "cell_type": "markdown",
   "metadata": {},
   "source": [
    "We got a variance of 36 for distribution **c** which was much more than we had expected. This high variability value is the direct result of the squaring process, which makes most distances much bigger than they actually are."
   ]
  },
  {
   "cell_type": "markdown",
   "metadata": {},
   "source": [
    "Squaring the distances also has the drawback of squaring the units of measurement. For computational purposes, and sometimes for simplicity, we tend to leave out the units of measurement in practice, but theoretically we should write out the units of measurement"
   ]
  },
  {
   "cell_type": "markdown",
   "metadata": {},
   "source": [
    "To solve this problem and also reduce the variability value, we can take the square root of variance. The square root of variance is called **standard deviation** (remember that \"deviation\" is synonymous with \"distance\"). Standard deviation is simply the square root of variance"
   ]
  },
  {
   "cell_type": "code",
   "execution_count": 15,
   "metadata": {},
   "outputs": [
    {
     "data": {
      "text/plain": [
       "6.0"
      ]
     },
     "execution_count": 15,
     "metadata": {},
     "output_type": "execute_result"
    }
   ],
   "source": [
    "# function that takes in a numerical array and returns the standard deviation of that array\n",
    "\n",
    "\n",
    "def standard_deviation(array):\n",
    "    mean = np.mean(array)\n",
    "    distance = []\n",
    "    for i in array:\n",
    "        distance.append((i-mean)**2) # Also can use np.abs() or np.fabs()\n",
    "    average_distance = (np.average(distance))**(1/2) # or np.sqrt(np.average(distance))\n",
    "    return average_distance\n",
    "\n",
    "c=[1,1,1,1,1,1,1,1,1,21]\n",
    "standard_deviation(c)"
   ]
  },
  {
   "cell_type": "markdown",
   "metadata": {},
   "source": [
    "Standard deviation is perhaps the most used measure of variability"
   ]
  },
  {
   "cell_type": "code",
   "execution_count": 17,
   "metadata": {},
   "outputs": [
    {
     "data": {
      "text/plain": [
       "79873.05865192253"
      ]
     },
     "execution_count": 17,
     "metadata": {},
     "output_type": "execute_result"
    }
   ],
   "source": [
    "standard_deviation(houses['SalePrice'])"
   ]
  },
  {
   "cell_type": "markdown",
   "metadata": {},
   "source": [
    "Standard deviation tells us how much the values in a distribution vary (on average) around the mean of that distribution."
   ]
  },
  {
   "cell_type": "code",
   "execution_count": 18,
   "metadata": {},
   "outputs": [
    {
     "name": "stdout",
     "output_type": "stream",
     "text": [
      "180796.0600682594\n"
     ]
    }
   ],
   "source": [
    "print(houses['SalePrice'].mean())"
   ]
  },
  {
   "cell_type": "raw",
   "metadata": {},
   "source": [
    "The mean tells us that the average price of a house is roughly $180,796, but this doesn't mean that each house (or most of them) costs exactly $180,796. One house could cost $120,000, another $240,000, and it could be that no house actually costs exactly $180,796. The standard deviation gives us a picture about this variability around the mean sale price. So, on average, sale prices vary by roughly $79,873 above and below a mean of $180,796."
   ]
  },
  {
   "cell_type": "code",
   "execution_count": 19,
   "metadata": {},
   "outputs": [
    {
     "data": {
      "text/plain": [
       "<matplotlib.legend.Legend at 0x28c9dbe0a90>"
      ]
     },
     "execution_count": 19,
     "metadata": {},
     "output_type": "execute_result"
    },
    {
     "data": {
      "image/png": "[encoded data removed]",
      "text/plain": [
       "<Figure size 432x288 with 1 Axes>"
      ]
     },
     "metadata": {
      "needs_background": "light"
     },
     "output_type": "display_data"
    }
   ],
   "source": [
    "mean = houses['SalePrice'].mean()\n",
    "st_dev = standard_deviation(houses['SalePrice'])\n",
    "houses['SalePrice'].plot.hist()\n",
    "plt.axvline(mean, color = 'Black', label = 'Mean')\n",
    "plt.axvline(mean - st_dev, color = 'Red', label = 'Below')\n",
    "plt.axvline(mean + st_dev, color = 'Violet', label = 'Above')\n",
    "plt.legend()"
   ]
  },
  {
   "cell_type": "raw",
   "metadata": {},
   "source": [
    "Notice in the histogram that prices can vary around the mean much more or much less than $79,873. Some outliers around $700,000 are more than $500,000 above the mean and a couple of houses around $30,000 are more than $150,000 below the mean. The standard deviation doesn't set boundaries for the values in a distribution: the prices can go above and below the mean more than $79,873."
   ]
  },
  {
   "cell_type": "code",
   "execution_count": 24,
   "metadata": {},
   "outputs": [
    {
     "name": "stdout",
     "output_type": "stream",
     "text": [
      "{'greatest_variability': 2006, 'lowest_variability': 2010}\n"
     ]
    }
   ],
   "source": [
    "# Find the year with the greatest and lowest variability of prices\n",
    "\n",
    "year_deviations = {}\n",
    "\n",
    "for year in years:\n",
    "    df = houses[houses['Yr Sold'] == year]\n",
    "    std_dev =  standard_deviation(df['SalePrice'])\n",
    "    year_deviations[year] = std_dev\n",
    "\n",
    "year_deviations\n",
    "\n",
    "greatest_variability = max(year_deviations, key = year_deviations.get)\n",
    "lowest_variability = min(year_deviations, key = year_deviations.get)\n",
    "\n",
    "print({\"greatest_variability\":greatest_variability, \"lowest_variability\":lowest_variability})"
   ]
  },
  {
   "cell_type": "markdown",
   "metadata": {},
   "source": [
    "Another way to understand standard deviation is as a measure of spread in a distribution — values in a distribution can be more or less spread."
   ]
  },
  {
   "cell_type": "code",
   "execution_count": 27,
   "metadata": {},
   "outputs": [],
   "source": [
    "# samples of 50 sample points each from the distribution of the Year Built variable\n",
    "\n",
    "sample1 = houses[\"Year Built\"].sample(50, random_state = 1)\n",
    "sample2 = houses[\"Year Built\"].sample(50, random_state = 2)"
   ]
  },
  {
   "cell_type": "code",
   "execution_count": 31,
   "metadata": {},
   "outputs": [
    {
     "data": {
      "image/png": "[encoded data removed]",
      "text/plain": [
       "<Figure size 432x288 with 1 Axes>"
      ]
     },
     "metadata": {
      "needs_background": "light"
     },
     "output_type": "display_data"
    },
    {
     "data": {
      "image/png": "[encoded data removed]",
      "text/plain": [
       "<Figure size 432x288 with 1 Axes>"
      ]
     },
     "metadata": {
      "needs_background": "light"
     },
     "output_type": "display_data"
    }
   ],
   "source": [
    "sample1.plot.hist()\n",
    "plt.show()\n",
    "plt.hist(houses[\"Year Built\"])\n",
    "plt.show()"
   ]
  },
  {
   "cell_type": "markdown",
   "metadata": {},
   "source": [
    "sample2 has a bigger spread than sample1"
   ]
  },
  {
   "cell_type": "code",
   "execution_count": 36,
   "metadata": {},
   "outputs": [
    {
     "name": "stdout",
     "output_type": "stream",
     "text": [
      "{'std_sample1': 29.24, 'std_sample2': 32.47}\n"
     ]
    }
   ],
   "source": [
    "# computing and comparing the standard deviations of the two samples\n",
    "\n",
    "std_sample1 = standard_deviation(sample1)\n",
    "std_sample2 = standard_deviation(sample2)\n",
    "\n",
    "print({\"std_sample1\":round(std_sample1,2),\"std_sample2\":round(std_sample2,2)})"
   ]
  },
  {
   "cell_type": "markdown",
   "metadata": {},
   "source": [
    "The standard deviations of these two sample distributions fit our visual estimates fairly well"
   ]
  },
  {
   "cell_type": "markdown",
   "metadata": {},
   "source": [
    "In practice, we generally work with samples, but most of the time we're not actually interested in describing the samples. Rather, we want to use the samples to make inferences about their corresponding populations."
   ]
  },
  {
   "cell_type": "code",
   "execution_count": 38,
   "metadata": {},
   "outputs": [
    {
     "data": {
      "text/plain": [
       "79873.05865192253"
      ]
     },
     "execution_count": 38,
     "metadata": {},
     "output_type": "execute_result"
    }
   ],
   "source": [
    "population = houses['SalePrice']\n",
    "parameter = standard_deviation(population)\n",
    "parameter"
   ]
  },
  {
   "cell_type": "code",
   "execution_count": 39,
   "metadata": {},
   "outputs": [],
   "source": [
    "statistic = []\n",
    "for i in range(5000):\n",
    "    sample = houses['SalePrice'].sample(10, random_state = i)\n",
    "    std_dev = standard_deviation(sample)\n",
    "    statistic.append(std_dev)\n"
   ]
  },
  {
   "cell_type": "code",
   "execution_count": 46,
   "metadata": {},
   "outputs": [
    {
     "data": {
      "image/png": "[encoded data removed]",
      "text/plain": [
       "<Figure size 432x288 with 1 Axes>"
      ]
     },
     "metadata": {
      "needs_background": "light"
     },
     "output_type": "display_data"
    }
   ],
   "source": [
    "plt.hist(statistic)\n",
    "plt.axvline(parameter, color = \"Green\")\n",
    "plt.show()"
   ]
  },
  {
   "cell_type": "markdown",
   "metadata": {},
   "source": [
    "Most sample standard deviations are clustered below the population standard deviation. This suggests that the sample standard deviation usually underestimates the population standard deviation."
   ]
  },
  {
   "cell_type": "code",
   "execution_count": 48,
   "metadata": {},
   "outputs": [
    {
     "name": "stdout",
     "output_type": "stream",
     "text": [
      "71303.64762671624\n"
     ]
    }
   ],
   "source": [
    "print(sum(statistic) /len(statistic))"
   ]
  },
  {
   "cell_type": "markdown",
   "metadata": {},
   "source": [
    "We can also see that the mean of the 5000 sample standard deviations is below the population standard deviation"
   ]
  },
  {
   "cell_type": "markdown",
   "metadata": {},
   "source": [
    "So we can say that the sample standard deviation underestimates on average the population standard deviation. Some sample standard deviations are lower than the population standard deviation, some are greater, some may even be equal to the population standard deviation, but on average the sample standard deviation is lower than the population standard deviation."
   ]
  },
  {
   "cell_type": "markdown",
   "metadata": {},
   "source": [
    "We can get a good intuition for why the sample standard deviation underestimates if we think in terms of distribution spread. When we sample a population, it's generally more likely to get a sample with a spread that's lower than the population's spread. This generally translates to a lower standard deviation than in the population."
   ]
  },
  {
   "cell_type": "markdown",
   "metadata": {},
   "source": [
    "Getting a sample with a higher standard deviation than in the population is possible, but this is less likely. This is mostly specific to samples with a high spread and no clusters."
   ]
  },
  {
   "cell_type": "markdown",
   "metadata": {},
   "source": [
    "To correct the underestimation problem, we can try to slightly modify the sample standard deviation formula to return higher values. One way to do that is to decrease the value of the denominator. If we decrease the value of the denominator, we get a greater result. We'll decrease by 1 the denominator in the sample standard deviation formula.\n",
    "\n",
    "This small correction we added to the sample standard deviation (dividing by n-1 instead of n) is called **Bessel's correction**. "
   ]
  },
  {
   "cell_type": "code",
   "execution_count": 50,
   "metadata": {},
   "outputs": [],
   "source": [
    "# Bessel's correction standard_deviation for samples\n",
    "\n",
    "def standard_deviation(array):\n",
    "    mean = np.mean(array)\n",
    "    distance = []\n",
    "    for i in array:\n",
    "        distance.append((i-mean)**2) # Also can use np.abs() or np.fabs()\n",
    "    average_distance = sum(distance)/(len(distance)-1)\n",
    "    return np.sqrt(average_distance)"
   ]
  },
  {
   "cell_type": "code",
   "execution_count": 51,
   "metadata": {},
   "outputs": [],
   "source": [
    "statistic = []\n",
    "for i in range(5000):\n",
    "    sample = houses['SalePrice'].sample(10, random_state = i)\n",
    "    std_dev = standard_deviation(sample)\n",
    "    statistic.append(std_dev)\n"
   ]
  },
  {
   "cell_type": "code",
   "execution_count": 54,
   "metadata": {},
   "outputs": [
    {
     "data": {
      "image/png": "[encoded data removed]",
      "text/plain": [
       "<Figure size 432x288 with 1 Axes>"
      ]
     },
     "metadata": {
      "needs_background": "light"
     },
     "output_type": "display_data"
    }
   ],
   "source": [
    "plt.hist(statistic)\n",
    "plt.axvline(parameter, color = \"Green\")\n",
    "plt.title(\"With Bessel's correction\")\n",
    "plt.show()"
   ]
  },
  {
   "cell_type": "markdown",
   "metadata": {},
   "source": [
    "It looks like Bessel's correction added some visible improvements and partially corrected the underestimation problem"
   ]
  },
  {
   "cell_type": "code",
   "execution_count": 55,
   "metadata": {},
   "outputs": [
    {
     "name": "stdout",
     "output_type": "stream",
     "text": [
      "75160.6439928273\n"
     ]
    }
   ],
   "source": [
    "print(sum(statistic) /len(statistic))"
   ]
  },
  {
   "cell_type": "markdown",
   "metadata": {},
   "source": [
    "The improvement brought by Bessel's correction is more obvious when we compare the average values of the two distributions above. The mean of the 5000 sample standard deviations without Bessel's correction is roughly 71304, while the mean standard deviation of the sample standard deviations having the correction is roughly 75161. This is significantly closer to the population standard deviation, which is approximately 79873."
   ]
  },
  {
   "cell_type": "markdown",
   "metadata": {},
   "source": [
    "We could decrease the denominator more (dividing by n-2 or n-3 etc) to try improving the correction. However, Statisticians agree that n-1 is the best choice for the sample standard deviation formula"
   ]
  },
  {
   "cell_type": "markdown",
   "metadata": {},
   "source": [
    "Now that we know what formulas to use for samples and populations. The population standard deviation is denoted with the Greek letter **б** (read \"sigma\", or \"lowercase sigma\"). Remember that the population standard deviation  is just the square root of the population variance."
   ]
  },
  {
   "cell_type": "markdown",
   "metadata": {},
   "source": [
    "The sample standard deviation is simply denoted with **s**, "
   ]
  },
  {
   "cell_type": "markdown",
   "metadata": {},
   "source": [
    "The main takeaway is that we need to use the standard Deviation or variance formulae with Bessel's correction for samples. For populations, we can use the standard Deviation or variance formulae without Bessel's correction."
   ]
  },
  {
   "cell_type": "code",
   "execution_count": 59,
   "metadata": {},
   "outputs": [
    {
     "name": "stdout",
     "output_type": "stream",
     "text": [
      "True\n",
      "True\n"
     ]
    }
   ],
   "source": [
    "sample = houses.sample(100, random_state = 1)\n",
    "from numpy import std, var \n",
    "\n",
    "pandas_stdev = sample[\"SalePrice\"].std(ddof = 1) # n-1\n",
    "numpy_stdev = std(sample[\"SalePrice\"], ddof = 1)\n",
    "equal_stdevs = pandas_stdev == numpy_stdev\n",
    "print(equal_stdevs)\n",
    "\n",
    "pandas_var = sample[\"SalePrice\"].var(ddof = 1)\n",
    "numpy_var = var(sample[\"SalePrice\"], ddof = 1)\n",
    "\n",
    "\n",
    "equal_vars = pandas_var == numpy_var \n",
    "print(equal_vars)"
   ]
  },
  {
   "cell_type": "markdown",
   "metadata": {},
   "source": [
    "We stated that statisticians agree that n-1 is better than n or n-2 for computing the sample standard deviation .An argument supporting this comes from the fact that the sample variance (which uses n-1 ) is an unbiased estimator for the population variance . Since standard deviation is just the square root of variance, it makes sense to use n-1 as well (although standard deviation is not an unbiased estimator"
   ]
  },
  {
   "cell_type": "markdown",
   "metadata": {},
   "source": [
    "When we discussed the mean, we call a statistic an unbiased estimator when that statistic is equal on average to the parameter it estimates. Remember that the sample mean is an unbiased estimator for the population mean no matter whether we sample with or without replacement."
   ]
  },
  {
   "cell_type": "markdown",
   "metadata": {},
   "source": [
    "The sample variance  is an unbiased estimator for the population variance  only when we sample with replacement."
   ]
  },
  {
   "cell_type": "code",
   "execution_count": 72,
   "metadata": {},
   "outputs": [
    {
     "name": "stdout",
     "output_type": "stream",
     "text": [
      "False\n",
      "True\n"
     ]
    }
   ],
   "source": [
    "population = [0, 3, 6]\n",
    "\n",
    "# samples of size n = 2 for the population [0, 3, 6] when we sample with replacement\n",
    "\n",
    "samples = [[0,3], [0,6],[0,0],\n",
    "           [3,0], [3,6],[3,3],\n",
    "           [6,0], [6,3],[6,6]\n",
    "          ]\n",
    "\n",
    "st_devs = []\n",
    "variances = []\n",
    "for sample in samples:\n",
    "    st_devs.append(std(sample,ddof = 1)) # using numpy\n",
    "    variances.append(var(sample,ddof = 1)) # using numpy\n",
    "\n",
    "mean_std = np.average(st_devs)\n",
    "mean_var = np.mean(variances)\n",
    "\n",
    "pop_var = var(population)\n",
    "pop_std = std(population)\n",
    "\n",
    "equal_stdev = pop_std == mean_std\n",
    "equal_var = pop_var == mean_var\n",
    "\n",
    "print(equal_stdev)\n",
    "print(equal_var)\n"
   ]
  },
  {
   "cell_type": "code",
   "execution_count": 73,
   "metadata": {},
   "outputs": [
    {
     "name": "stdout",
     "output_type": "stream",
     "text": [
      "False\n",
      "False\n"
     ]
    }
   ],
   "source": [
    "population = [0, 3, 6]\n",
    "\n",
    "# samples of size n = 2 for the population [0, 3, 6] when we sample without replacement\n",
    "\n",
    "samples = [[0,3], [0,6],\n",
    "           [3,0], [3,6],\n",
    "           [6,0], [6,3]\n",
    "          ]\n",
    "\n",
    "\n",
    "st_devs = []\n",
    "variances = []\n",
    "for sample in samples:\n",
    "    st_devs.append(std(sample,ddof = 1)) # using numpy\n",
    "    variances.append(var(sample,ddof = 1)) # using numpy\n",
    "\n",
    "mean_std = np.average(st_devs)\n",
    "mean_var = np.mean(variances)\n",
    "\n",
    "pop_var = var(population)\n",
    "pop_std = std(population)\n",
    "\n",
    "equal_stdev = pop_std == mean_std\n",
    "equal_var = pop_var == mean_var\n",
    "\n",
    "print(equal_stdev)\n",
    "print(equal_var)"
   ]
  },
  {
   "cell_type": "code",
   "execution_count": null,
   "metadata": {},
   "outputs": [],
   "source": []
  },
  {
   "cell_type": "code",
   "execution_count": null,
   "metadata": {},
   "outputs": [],
   "source": []
  }
 ],
 "metadata": {
  "kernelspec": {
   "display_name": "Python 3",
   "language": "python",
   "name": "python3"
  },
  "language_info": {
   "codemirror_mode": {
    "name": "ipython",
    "version": 3
   },
   "file_extension": ".py",
   "mimetype": "text/x-python",
   "name": "python",
   "nbconvert_exporter": "python",
   "pygments_lexer": "ipython3",
   "version": "3.7.1"
  }
 },
 "nbformat": 4,
 "nbformat_minor": 2
}
