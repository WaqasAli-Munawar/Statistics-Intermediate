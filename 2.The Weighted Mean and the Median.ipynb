{
 "cells": [
  {
   "cell_type": "code",
   "execution_count": 7,
   "metadata": {},
   "outputs": [],
   "source": [
    "import pandas as pd\n",
    "import numpy as np\n",
    "\n",
    "pd.options.display.max_columns = 150"
   ]
  },
  {
   "cell_type": "code",
   "execution_count": 2,
   "metadata": {},
   "outputs": [],
   "source": [
    "houses = pd.read_table(\"AmesHousing_1.txt\", delimiter = \"\\t\")"
   ]
  },
  {
   "cell_type": "code",
   "execution_count": 3,
   "metadata": {},
   "outputs": [
    {
     "name": "stdout",
     "output_type": "stream",
     "text": [
      "180796.0600682594\n"
     ]
    }
   ],
   "source": [
    "print(houses['SalePrice'].mean())"
   ]
  },
  {
   "cell_type": "markdown",
   "metadata": {},
   "source": [
    "Let's say that instead of the houses data set, we only have the following summary table based on it:"
   ]
  },
  {
   "cell_type": "code",
   "execution_count": 27,
   "metadata": {},
   "outputs": [],
   "source": [
    "houses_per_year = pd.DataFrame()"
   ]
  },
  {
   "cell_type": "code",
   "execution_count": 28,
   "metadata": {},
   "outputs": [],
   "source": [
    "houses_per_year[\"Year\"] = [2006,2007,2008,2009,2010]\n",
    "houses_per_year[\"Mean Price\"] = [181761.648000,185138.207493,178841.750804,181404.567901,172597.598240]\n",
    "houses_per_year[\"Houses Sold\"] = [625,694,622,648,341]"
   ]
  },
  {
   "cell_type": "code",
   "execution_count": 29,
   "metadata": {},
   "outputs": [
    {
     "data": {
      "text/html": [
       "<div>\n",
       "<style scoped>\n",
       "    .dataframe tbody tr th:only-of-type {\n",
       "        vertical-align: middle;\n",
       "    }\n",
       "\n",
       "    .dataframe tbody tr th {\n",
       "        vertical-align: top;\n",
       "    }\n",
       "\n",
       "    .dataframe thead th {\n",
       "        text-align: right;\n",
       "    }\n",
       "</style>\n",
       "<table border=\"1\" class=\"dataframe\">\n",
       "  <thead>\n",
       "    <tr style=\"text-align: right;\">\n",
       "      <th></th>\n",
       "      <th>Year</th>\n",
       "      <th>Mean Price</th>\n",
       "      <th>Houses Sold</th>\n",
       "    </tr>\n",
       "  </thead>\n",
       "  <tbody>\n",
       "    <tr>\n",
       "      <th>0</th>\n",
       "      <td>2006</td>\n",
       "      <td>181761.648000</td>\n",
       "      <td>625</td>\n",
       "    </tr>\n",
       "    <tr>\n",
       "      <th>1</th>\n",
       "      <td>2007</td>\n",
       "      <td>185138.207493</td>\n",
       "      <td>694</td>\n",
       "    </tr>\n",
       "    <tr>\n",
       "      <th>2</th>\n",
       "      <td>2008</td>\n",
       "      <td>178841.750804</td>\n",
       "      <td>622</td>\n",
       "    </tr>\n",
       "    <tr>\n",
       "      <th>3</th>\n",
       "      <td>2009</td>\n",
       "      <td>181404.567901</td>\n",
       "      <td>648</td>\n",
       "    </tr>\n",
       "    <tr>\n",
       "      <th>4</th>\n",
       "      <td>2010</td>\n",
       "      <td>172597.598240</td>\n",
       "      <td>341</td>\n",
       "    </tr>\n",
       "  </tbody>\n",
       "</table>\n",
       "</div>"
      ],
      "text/plain": [
       "   Year     Mean Price  Houses Sold\n",
       "0  2006  181761.648000          625\n",
       "1  2007  185138.207493          694\n",
       "2  2008  178841.750804          622\n",
       "3  2009  181404.567901          648\n",
       "4  2010  172597.598240          341"
      ]
     },
     "execution_count": 29,
     "metadata": {},
     "output_type": "execute_result"
    }
   ],
   "source": [
    "houses_per_year"
   ]
  },
  {
   "cell_type": "markdown",
   "metadata": {},
   "source": [
    "Once again, our task is to find the mean house sale price across all years. Intuitively, we just need to find the mean of the Mean Price column"
   ]
  },
  {
   "cell_type": "code",
   "execution_count": 30,
   "metadata": {},
   "outputs": [
    {
     "data": {
      "text/plain": [
       "847.3055806593911"
      ]
     },
     "execution_count": 30,
     "metadata": {},
     "output_type": "execute_result"
    }
   ],
   "source": [
    "mean_new = houses_per_year[\"Mean Price\"].mean()\n",
    "mean_original = houses[\"SalePrice\"].mean()\n",
    "difference = mean_original - mean_new\n",
    "difference"
   ]
  },
  {
   "cell_type": "markdown",
   "metadata": {},
   "source": [
    "Rather counterintuitively, we noticed that the mean of the Mean Price column is not equal to that of the SalePrice column. The root of the problem is related to the fact that we have different number of houses sold each year (notice the Houses Sold column)"
   ]
  },
  {
   "cell_type": "markdown",
   "metadata": {},
   "source": [
    "Because each year has a different number of sold houses, the mean of sale prices for each individual year weighs differently in the overall mean. But when we computed the mean of the Mean Price column, we gave each year the same weight because we added all the five mean prices and then divided by 5."
   ]
  },
  {
   "cell_type": "markdown",
   "metadata": {},
   "source": [
    "To compute the correct overall mean, we need to:\n",
    "\n",
    "* Find the sum of prices for each year individually. For instance, 341 houses were sold in 2010 and each house had an average price of approximately $172598. The sum of prices for year 2010 is 341*172598 = 58855918.\n",
    "* Add all the sums together.\n",
    "* Divide the final sum by the number of houses sold (not by the number of years) to find the mean sale price per house."
   ]
  },
  {
   "cell_type": "code",
   "execution_count": 34,
   "metadata": {},
   "outputs": [
    {
     "data": {
      "text/plain": [
       "180796.0600682314"
      ]
     },
     "execution_count": 34,
     "metadata": {},
     "output_type": "execute_result"
    }
   ],
   "source": [
    "houses_per_year['sum_per_year']  = houses_per_year['Mean Price'] * houses_per_year['Houses Sold']\n",
    "\n",
    "weighted_mean = houses_per_year['sum_per_year'].sum()/houses_per_year['Houses Sold'].sum()\n",
    "weighted_mean"
   ]
  },
  {
   "cell_type": "code",
   "execution_count": 36,
   "metadata": {},
   "outputs": [
    {
     "data": {
      "text/plain": [
       "180796.06006823143"
      ]
     },
     "execution_count": 36,
     "metadata": {},
     "output_type": "execute_result"
    }
   ],
   "source": [
    "# alternative method\n",
    "weighted_mean = ((houses_per_year[\"Houses Sold\"]/houses_per_year[\"Houses Sold\"].sum())*houses_per_year[\"Mean Price\"]).sum()\n",
    "weighted_mean"
   ]
  },
  {
   "cell_type": "code",
   "execution_count": 40,
   "metadata": {},
   "outputs": [
    {
     "name": "stdout",
     "output_type": "stream",
     "text": [
      "0.0\n"
     ]
    }
   ],
   "source": [
    "mean_original = houses['SalePrice'].mean()\n",
    "\n",
    "difference  = round(mean_original,10)-round(weighted_mean,10)\n",
    "print(round(difference,1))"
   ]
  },
  {
   "cell_type": "markdown",
   "metadata": {},
   "source": [
    "When we take into account the different weights and compute the mean like we did we call that mean the weighted mean"
   ]
  },
  {
   "cell_type": "markdown",
   "metadata": {},
   "source": [
    "The weighted mean can be abbreviated just like the arithemtic mean: 𝑥¯ for samples, and μ for populations."
   ]
  },
  {
   "cell_type": "code",
   "execution_count": 44,
   "metadata": {},
   "outputs": [
    {
     "data": {
      "text/plain": [
       "180796.0600682314"
      ]
     },
     "execution_count": 44,
     "metadata": {},
     "output_type": "execute_result"
    }
   ],
   "source": [
    "# function that computes the weighted mean for any array of numbers\n",
    "\n",
    "def weighted_mean(mean_values,weights):\n",
    "    sum_prices = []\n",
    "    for i in range(len(mean_values)): # we can either use len(mean_values) or len(weights) \n",
    "        sum_prices.append(mean_values[i]*weights[i])\n",
    "    return sum(sum_prices)/sum(weights)\n",
    "    \n",
    "weighted_mean_function = weighted_mean(houses_per_year['Mean Price'],houses_per_year['Houses Sold'])\n",
    "weighted_mean_function"
   ]
  },
  {
   "cell_type": "markdown",
   "metadata": {},
   "source": [
    "Use the [numpy.average()](https://docs.scipy.org/doc/numpy/reference/generated/numpy.average.html) function to compute the weighted mean for the same Mean Price column"
   ]
  },
  {
   "cell_type": "code",
   "execution_count": 47,
   "metadata": {},
   "outputs": [
    {
     "data": {
      "text/plain": [
       "180796.0600682314"
      ]
     },
     "execution_count": 47,
     "metadata": {},
     "output_type": "execute_result"
    }
   ],
   "source": [
    "#  numpy.average() Compute the weighted average along the specified axis.\n",
    "weighted_mean_numpy = np.average(houses_per_year['Mean Price'], weights =houses_per_year['Houses Sold'])\n",
    "weighted_mean_numpy"
   ]
  },
  {
   "cell_type": "code",
   "execution_count": 49,
   "metadata": {},
   "outputs": [
    {
     "data": {
      "text/plain": [
       "True"
      ]
     },
     "execution_count": 49,
     "metadata": {},
     "output_type": "execute_result"
    }
   ],
   "source": [
    "# Compare the two weighted means \n",
    "weighted_mean_numpy == weighted_mean_function"
   ]
  },
  {
   "cell_type": "markdown",
   "metadata": {},
   "source": [
    "While learning about the weighted mean we saw that there are distributions where it's possible to compute the mean, although that wouldn't be correct. There are distributions, however, where it's impossible to compute the mean."
   ]
  },
  {
   "cell_type": "code",
   "execution_count": 50,
   "metadata": {},
   "outputs": [
    {
     "name": "stdout",
     "output_type": "stream",
     "text": [
      "6             844\n",
      "7             649\n",
      "5             586\n",
      "8             347\n",
      "4             203\n",
      "9             143\n",
      "10 or more    131\n",
      "3              26\n",
      "2               1\n",
      "Name: TotRms AbvGrd, dtype: int64\n"
     ]
    }
   ],
   "source": [
    "print(houses['TotRms AbvGrd'].value_counts())"
   ]
  },
  {
   "cell_type": "markdown",
   "metadata": {},
   "source": [
    "The lowest boundary of the distribution is well-defined — the lowest value is 2 and no value in the distribution can be lower than that. But the upper boundary is not defined as precisely — the highest value is \"10 or more\" which means that houses can actually have 10, 11, 15, or even more rooms. The upper boundary (\"10 or more\") is thus open, and for this reason we say that the TotRms AbvGrd variable has an **open-ended distribution**."
   ]
  },
  {
   "cell_type": "markdown",
   "metadata": {},
   "source": [
    "It's still reasonable to want to find an average value (a single representative value) for this distribution, but \"10 or more\" is not numerical, which makes it impossible to compute the mean."
   ]
  },
  {
   "cell_type": "markdown",
   "metadata": {},
   "source": [
    "A common workaround is to sort all the values in the distribution in an ascending order and then select the middle value as the most representative value of the distribution. We call this middle value **the median**"
   ]
  },
  {
   "cell_type": "markdown",
   "metadata": {},
   "source": [
    "When a distribution has an even number of values, it's not clear which is the middle one. It's impossible to choose a value from this distribution that divides the distribution in two halves of equal length. The workaround is to take the two middle values and compute their mean. This value is the average value of the distribution. \n",
    "\n",
    "In statistics, the term \"average\" refers to the most representative value of a distribution. Although it's common to use \"average\" and \"mean\" interchangeably, \"average\" is not restricted to refer only to the mean. Depending on the context, it can also refer to the median or the mode."
   ]
  },
  {
   "cell_type": "markdown",
   "metadata": {},
   "source": [
    "there's no widely accepted standard notation — most commonly, both the sample and the population median are simply denoted with the word *median*"
   ]
  },
  {
   "cell_type": "markdown",
   "metadata": {},
   "source": [
    "Unlike the mean, the median doesn't have a neat way to be defined algebraically. This is because sorting a distribution in an ascending order and then choosing a middle value or two doesn't involve any arithmetic. The different treatment for odd and even-numbered distributions also poses some theoretical challenges for constructing a single definition."
   ]
  },
  {
   "cell_type": "code",
   "execution_count": 77,
   "metadata": {},
   "outputs": [],
   "source": [
    "# Find the median value of the TotRms AbvGrd column.\n",
    "\n",
    "rooms = houses['TotRms AbvGrd'].copy()\n",
    "\n",
    "# Replace the '10 or more' value with the integer 10\n",
    "mapping = {\"10 or more\":10}\n",
    "rooms.replace(mapping, inplace = True) # using the Series.replace() method."
   ]
  },
  {
   "cell_type": "code",
   "execution_count": 73,
   "metadata": {},
   "outputs": [
    {
     "data": {
      "text/plain": [
       "array([ 2,  3,  3, ..., 10, 10, 10])"
      ]
     },
     "execution_count": 73,
     "metadata": {},
     "output_type": "execute_result"
    }
   ],
   "source": [
    "rooms = rooms.astype(int)\n",
    "values = rooms.sort_values().values\n",
    "values"
   ]
  },
  {
   "cell_type": "code",
   "execution_count": 72,
   "metadata": {},
   "outputs": [
    {
     "data": {
      "text/plain": [
       "6"
      ]
     },
     "execution_count": 72,
     "metadata": {},
     "output_type": "execute_result"
    }
   ],
   "source": [
    "median = 0\n",
    "if values.size%2 == 0:\n",
    "    median = values[int(values.size/2)]\n",
    "else:\n",
    "    median = (values[int(np.floor(values.size/2))] + values[int(np.ceil(values.size/2))])/2\n",
    "median"
   ]
  },
  {
   "cell_type": "markdown",
   "metadata": {},
   "source": [
    "When we compute the mean, we account equally for each value in the distribution — we sum up all the values in the distribution and then divide the total by the number of values we added. When we compute the median, however, we don't consider equally each value in the distribution. In fact, we only consider the middle value (or the middle two values).\n",
    "\n",
    "This property makes the median more resistant to changes in the data compared to the mean."
   ]
  },
  {
   "cell_type": "markdown",
   "metadata": {},
   "source": [
    "[2,3,5,5,10]\n",
    "\n",
    "Both the median and the mean of this distribution are 5"
   ]
  },
  {
   "cell_type": "markdown",
   "metadata": {},
   "source": [
    "[2,3,5,5,1000]\n",
    "\n",
    "The median is still 5, but the mean is now 203. This is because the mean takes into account every value in the distribution, while the median considers only the middle value. Because the median is so resistant to changes in the data, it's classified as a **resistant or robust statistic**."
   ]
  },
  {
   "cell_type": "markdown",
   "metadata": {},
   "source": [
    "This property makes the median ideal for finding reasonable averages for distributions containing outliers."
   ]
  },
  {
   "cell_type": "code",
   "execution_count": 85,
   "metadata": {},
   "outputs": [
    {
     "data": {
      "image/png": "[encoded data removed]",
      "text/plain": [
       "<Figure size 432x288 with 1 Axes>"
      ]
     },
     "metadata": {
      "needs_background": "light"
     },
     "output_type": "display_data"
    },
    {
     "data": {
      "image/png": "[encoded data removed]",
      "text/plain": [
       "<Figure size 432x288 with 1 Axes>"
      ]
     },
     "metadata": {
      "needs_background": "light"
     },
     "output_type": "display_data"
    },
    {
     "data": {
      "image/png": "[encoded data removed]",
      "text/plain": [
       "<Figure size 432x288 with 1 Axes>"
      ]
     },
     "metadata": {
      "needs_background": "light"
     },
     "output_type": "display_data"
    }
   ],
   "source": [
    "# The Lot Area and SalePrice variables have outliers. \n",
    "# Confirm this information by visualizing the distributions using a box plot\n",
    "\n",
    "import matplotlib.pyplot as plt\n",
    "\n",
    "import seaborn as sns\n",
    "\n",
    "sns.boxplot(houses[\"Lot Area\"])\n",
    "plt.show()\n",
    "# houses[\"Lot Area\"].plot.box()\n",
    "# plt.show()\n",
    "\n",
    "plt.boxplot(houses['SalePrice'])\n",
    "plt.show()"
   ]
  },
  {
   "cell_type": "code",
   "execution_count": 87,
   "metadata": {},
   "outputs": [
    {
     "name": "stdout",
     "output_type": "stream",
     "text": [
      "3680.7051194539254 20796.060068259394\n"
     ]
    }
   ],
   "source": [
    "lotarea_difference = houses[\"Lot Area\"].mean() - houses[\"Lot Area\"].median()\n",
    "saleprice_difference = houses['SalePrice'].mean()-houses['SalePrice'].median()\n",
    "print(lotarea_difference, saleprice_difference)"
   ]
  },
  {
   "cell_type": "markdown",
   "metadata": {},
   "source": [
    "Data points belonging to ordinal variables are often coded using numbers"
   ]
  },
  {
   "cell_type": "code",
   "execution_count": 88,
   "metadata": {},
   "outputs": [
    {
     "name": "stdout",
     "output_type": "stream",
     "text": [
      "1       7\n",
      "2      10\n",
      "3      50\n",
      "4     101\n",
      "5    1654\n",
      "6     533\n",
      "7     390\n",
      "8     144\n",
      "9      41\n",
      "Name: Overall Cond, dtype: int64\n"
     ]
    }
   ],
   "source": [
    "print(houses['Overall Cond'].value_counts().sort_index())"
   ]
  },
  {
   "cell_type": "markdown",
   "metadata": {},
   "source": [
    "Because words like \"fair\" or \"average\" are coded with numbers, it becomes mathematically possible to compute the mean. But whether or not it's theoretically sound to compute the mean for ordinal variables is contentious"
   ]
  },
  {
   "cell_type": "markdown",
   "metadata": {},
   "source": [
    "If the overall condition of a house is rated with an 8 (Excellent), and another house gets a 4 (Below average), we can't say that the conditions of the former are twice as better than the latter. The most we can say is that the house which got an 8 has better conditions (we can't quantify how much better — it could be twice as better, three times as better, 1.5 times as better, we simply don't know).\n",
    "\n",
    "This should be more clear if we consider the fact that the numbers used to encode the quality levels (\"Poor\", \"Fair\", \"Good\", etc.) are chosen arbitrarily. Instead of numbers from 1 to 10, we could have numbers from 30 to 40, or from 50 to 70 in steps of 2, or from 0 to 9:"
   ]
  },
  {
   "cell_type": "markdown",
   "metadata": {},
   "source": [
    "It can be argued thus that the numerical values of an ordinal variable are not subject to meaningful arithmetical operations. But computing the mean involves meaningful arithmetical operations, so it's not theoretically sound to use the mean for ordinal variables."
   ]
  },
  {
   "cell_type": "markdown",
   "metadata": {},
   "source": [
    "Because the median doesn't involve arithmetical operations, it's considered a better alternative to the mean. This doesn't fully apply, however, to even-numbered distributions, where we need to take the mean of the middle two values to find the median. This poses some theoretical problems too."
   ]
  },
  {
   "cell_type": "code",
   "execution_count": 91,
   "metadata": {},
   "outputs": [
    {
     "name": "stdout",
     "output_type": "stream",
     "text": [
      "5.56 5.0\n"
     ]
    }
   ],
   "source": [
    "mean = houses[\"Overall Cond\"].mean()\n",
    "median = houses[\"Overall Cond\"].median()\n",
    "print(round(mean,2), median)"
   ]
  },
  {
   "cell_type": "code",
   "execution_count": 92,
   "metadata": {},
   "outputs": [
    {
     "data": {
      "text/plain": [
       "<matplotlib.axes._subplots.AxesSubplot at 0x26f03ceddd8>"
      ]
     },
     "execution_count": 92,
     "metadata": {},
     "output_type": "execute_result"
    },
    {
     "data": {
      "image/png": "[encoded data removed]",
      "text/plain": [
       "<Figure size 432x288 with 1 Axes>"
      ]
     },
     "metadata": {
      "needs_background": "light"
     },
     "output_type": "display_data"
    }
   ],
   "source": [
    "houses[\"Overall Cond\"].plot.hist()"
   ]
  },
  {
   "cell_type": "markdown",
   "metadata": {},
   "source": [
    "The mean seems more representative and more informative because it captures the\n",
    "fact that there are more houses rated above 5 than rated under 5. Because of this,\n",
    "the mean is slightly shifted above 5. \n"
   ]
  },
  {
   "cell_type": "markdown",
   "metadata": {},
   "source": [
    "Although it can be argued that it's theoretically unsound to compute the mean for ordinal variables, above we found the mean more informative and representative than the median. The truth is that in practice many people get past the theoretical hurdles and use the mean nonetheless because in many cases it's much richer in information than the median."
   ]
  },
  {
   "cell_type": "markdown",
   "metadata": {},
   "source": [
    "Let's consider a situation where the mean is arguably a much better choice to measure the average of an ordinal variable.\n",
    "\n",
    "Let's say we're working for an online real estate company which allows customers to buy, sell, and rent houses. The speed on our website is important for all of our customers, and we want to measure how the customers perceive the speed on the website.\n",
    "\n",
    "The survey yielded the distribution below, whose mean and median have both a value of 2:\n",
    "$$[1,1,1,2,2,2,2,3,3,3]$$\n",
    "\n",
    "After being presented with the results, the engineering team implemented a few changes meant to improve speed, and now we repeat the survey on another random sample of 10 customers and get these results:\n",
    "$$[1,2,2,2,2,2,4,5,5,5]$$\n",
    "\n",
    "\n"
   ]
  },
  {
   "cell_type": "markdown",
   "metadata": {},
   "source": [
    "The median is still 2, and it suggests that nothing changed. The mean, however, went up to 3, suggesting that the changes our engineers made have had a positive effect. Unlike the median, the mean is sensitive to small changes in the data, and this property is what makes it more useful in this case.\n",
    "\n",
    "It should be clear by now that whether we should use the mean for ordinal data is contentious. In practice, we should be flexible and make our choice on a case by case basis. Also, we are not constrained to choose one metric or the other — we can choose both the mean and median to describe a distribution."
   ]
  },
  {
   "cell_type": "code",
   "execution_count": null,
   "metadata": {},
   "outputs": [],
   "source": []
  }
 ],
 "metadata": {
  "kernelspec": {
   "display_name": "Python 3",
   "language": "python",
   "name": "python3"
  },
  "language_info": {
   "codemirror_mode": {
    "name": "ipython",
    "version": 3
   },
   "file_extension": ".py",
   "mimetype": "text/x-python",
   "name": "python",
   "nbconvert_exporter": "python",
   "pygments_lexer": "ipython3",
   "version": "3.7.1"
  }
 },
 "nbformat": 4,
 "nbformat_minor": 2
}
